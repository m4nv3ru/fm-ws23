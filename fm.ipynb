{
 "cells": [
  {
   "cell_type": "markdown",
   "source": [
    "# Problem Size Generation"
   ],
   "metadata": {
    "collapsed": false
   },
   "id": "c028f169a061eb2"
  },
  {
   "cell_type": "code",
   "execution_count": 3,
   "outputs": [],
   "source": [
    "import random\n",
    "\n",
    "def generate_problem_sizes(n, min_number = 1, max_number = 1 << 60, sort=False, file_name='problem_size.txt'):\n",
    "    problem_sizes = [random.randint(min_number, max_number) for _ in range(n)]\n",
    "    \n",
    "    if sort:\n",
    "        problem_sizes.sort()\n",
    "    \n",
    "    problem_sizes_str = ';'.join(map(str, problem_sizes))\n",
    "    with open(file_name, 'w') as f:\n",
    "        f.write(f'{n}\\n')\n",
    "        f.write(problem_sizes_str)\n",
    "        \n",
    "    return problem_sizes\n",
    "\n",
    "_ = generate_problem_sizes(1000, max_number=1000, sort=True)"
   ],
   "metadata": {
    "collapsed": false,
    "ExecuteTime": {
     "end_time": "2023-12-06T23:42:16.901856Z",
     "start_time": "2023-12-06T23:42:16.893340900Z"
    }
   },
   "id": "4b0a0655cf5c949"
  },
  {
   "cell_type": "code",
   "execution_count": null,
   "outputs": [],
   "source": [],
   "metadata": {
    "collapsed": false
   },
   "id": "ec2d3f503114f44c"
  }
 ],
 "metadata": {
  "kernelspec": {
   "display_name": "Python 3",
   "language": "python",
   "name": "python3"
  },
  "language_info": {
   "codemirror_mode": {
    "name": "ipython",
    "version": 2
   },
   "file_extension": ".py",
   "mimetype": "text/x-python",
   "name": "python",
   "nbconvert_exporter": "python",
   "pygments_lexer": "ipython2",
   "version": "2.7.6"
  }
 },
 "nbformat": 4,
 "nbformat_minor": 5
}
