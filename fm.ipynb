{
 "cells": [
  {
   "cell_type": "markdown",
   "id": "c028f169a061eb2",
   "metadata": {
    "collapsed": false,
    "jupyter": {
     "outputs_hidden": false
    }
   },
   "source": [
    "# Problem Size Generation"
   ]
  },
  {
   "cell_type": "code",
   "execution_count": 1,
   "id": "4b0a0655cf5c949",
   "metadata": {
    "ExecuteTime": {
     "end_time": "2023-12-06T23:42:16.901856Z",
     "start_time": "2023-12-06T23:42:16.893340900Z"
    },
    "collapsed": false,
    "jupyter": {
     "outputs_hidden": false
    }
   },
   "outputs": [],
   "source": [
    "import random\n",
    "\n",
    "def generate_problem_sizes(n, min_number = 1, max_number = 1 << 60, sort=False, file_name='problem_size.txt'):\n",
    "    problem_sizes = [random.randint(min_number, max_number) for _ in range(n)]\n",
    "    \n",
    "    if sort:\n",
    "        problem_sizes.sort()\n",
    "    \n",
    "    problem_sizes_str = ';'.join(map(str, problem_sizes))\n",
    "    with open(file_name, 'w') as f:\n",
    "        f.write(f'{n}\\n')\n",
    "        f.write(problem_sizes_str)\n",
    "        \n",
    "    return problem_sizes\n",
    "\n",
    "_ = generate_problem_sizes(1000, max_number=1000, sort=True)"
   ]
  },
  {
   "cell_type": "markdown",
   "metadata": {},
   "source": [
    "# Benchmarking"
   ]
  },
  {
   "cell_type": "code",
   "execution_count": null,
   "metadata": {},
   "outputs": [],
   "source": [
    "def execute_and_monitor(command, interval=0.5):\n",
    "    # Start the process\n",
    "    process = subprocess.Popen(command, shell=True, stdout=subprocess.PIPE, stderr=subprocess.PIPE)\n",
    "\n",
    "    # Monitor memory and time\n",
    "    start_time = time.time()\n",
    "    memory_usage_series = []\n",
    "    try:\n",
    "        while True:\n",
    "            # Check if process has ended and get memory usage\n",
    "            status = psutil.Process(process.pid)\n",
    "            memory_use = status.memory_info().rss  # rss = Resident Set Size\n",
    "            memory_usage_series.append(memory_use)\n",
    "\n",
    "            if process.poll() is not None:  # If process has finished\n",
    "                break\n",
    "\n",
    "            time.sleep(interval)  # Wait a little before checking again\n",
    "    except psutil.NoSuchProcess:\n",
    "        pass\n",
    "    end_time = time.time()\n",
    "\n",
    "    result = {\n",
    "        'command': command,\n",
    "        'execution_time': end_time - start_time,\n",
    "        'memory_usage_series': memory_usage_series\n",
    "    }\n",
    "\n",
    "    return result"
   ]
  }
 ],
 "metadata": {
  "kernelspec": {
   "display_name": "Python 3 (ipykernel)",
   "language": "python",
   "name": "python3"
  },
  "language_info": {
   "codemirror_mode": {
    "name": "ipython",
    "version": 3
   },
   "file_extension": ".py",
   "mimetype": "text/x-python",
   "name": "python",
   "nbconvert_exporter": "python",
   "pygments_lexer": "ipython3",
   "version": "3.10.12"
  }
 },
 "nbformat": 4,
 "nbformat_minor": 5
}
